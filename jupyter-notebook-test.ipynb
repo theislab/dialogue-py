{
 "cells": [
  {
   "cell_type": "markdown",
   "id": "3d2ebc2b-80a4-4142-9fdd-d9255858deae",
   "metadata": {},
   "source": [
    "# DialoguePy tutorial"
   ]
  },
  {
   "cell_type": "markdown",
   "id": "863fe46f-5276-456b-98d9-ccace53f8e7f",
   "metadata": {},
   "source": [
    "## Step 1"
   ]
  },
  {
   "cell_type": "markdown",
   "id": "7416c7d5-c745-4b63-86aa-a9c70e7e2ce7",
   "metadata": {},
   "source": [
    "Create Dialoguepy object with options"
   ]
  },
  {
   "cell_type": "code",
   "execution_count": null,
   "id": "aa4a0ddb-0984-4b6a-bdb1-9a5919126b1a",
   "metadata": {},
   "outputs": [],
   "source": [
    "import pertpy as pt\n",
    "\n",
    "adata = sc.read()\n",
    "my_object = pt.tl.Dialoguepy()"
   ]
  },
  {
   "cell_type": "markdown",
   "id": "5e628007-12f8-458d-9cce-e93c96ac6128",
   "metadata": {},
   "source": [
    "## Step 2"
   ]
  },
  {
   "cell_type": "markdown",
   "id": "3aef09d8-3c7f-4da4-a1c3-d57b54b30327",
   "metadata": {},
   "source": [
    "Calculate MCPs"
   ]
  },
  {
   "cell_type": "code",
   "execution_count": null,
   "id": "e854d376-ac25-42ce-b877-ffd17a1e70cb",
   "metadata": {},
   "outputs": [],
   "source": [
    "my_object.calculate_mcps(adata)"
   ]
  },
  {
   "cell_type": "markdown",
   "id": "dae8b478-3dda-44b6-b135-873fc24bd6e7",
   "metadata": {},
   "source": [
    "## Step 3"
   ]
  },
  {
   "cell_type": "markdown",
   "id": "493abc6a-ac2d-4376-b7f8-c5d5a9c5defb",
   "metadata": {},
   "source": [
    "Plot MCPs"
   ]
  },
  {
   "cell_type": "code",
   "execution_count": null,
   "id": "43b83ca8-eb7e-4872-ad4b-29a2b58ed239",
   "metadata": {},
   "outputs": [],
   "source": []
  },
  {
   "cell_type": "code",
   "execution_count": null,
   "id": "ac23e446-aaa3-41c5-91e8-31576e2e4ad8",
   "metadata": {},
   "outputs": [],
   "source": []
  },
  {
   "cell_type": "code",
   "execution_count": null,
   "id": "6ae3839b-0764-48ca-a568-2a730289d1b1",
   "metadata": {},
   "outputs": [],
   "source": []
  }
 ],
 "metadata": {
  "kernelspec": {
   "display_name": "Python 3 (ipykernel)",
   "language": "python",
   "name": "python3"
  },
  "language_info": {
   "codemirror_mode": {
    "name": "ipython",
    "version": 3
   },
   "file_extension": ".py",
   "mimetype": "text/x-python",
   "name": "python",
   "nbconvert_exporter": "python",
   "pygments_lexer": "ipython3",
   "version": "3.9.7"
  }
 },
 "nbformat": 4,
 "nbformat_minor": 5
}
